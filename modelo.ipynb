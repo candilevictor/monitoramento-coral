{
 "cells": [
  {
   "cell_type": "code",
   "execution_count": 11,
   "metadata": {},
   "outputs": [],
   "source": [
    "import os\n",
    "import pandas as pd\n",
    "import numpy as np\n",
    "import matplotlib.pyplot as plt\n",
    "from tensorflow.keras.preprocessing.image import ImageDataGenerator\n",
    "from tensorflow.keras.models import Sequential\n",
    "from tensorflow.keras.layers import Conv2D, MaxPooling2D, Flatten, Dense, Dropout\n",
    "from tensorflow.keras.preprocessing import image\n",
    "import shutil\n",
    "import random\n",
    "from tensorflow.keras.callbacks import EarlyStopping\n",
    "import urllib.request"
   ]
  },
  {
   "cell_type": "code",
   "execution_count": 5,
   "metadata": {},
   "outputs": [
    {
     "name": "stdout",
     "output_type": "stream",
     "text": [
      "Dataset URL: https://www.kaggle.com/datasets/VENCERLANZ09/HEALTHY-AND-BLEACHED-CORALS-IMAGE-CLASSIFICATION\n",
      "License(s): ODbL-1.0\n",
      "Downloading HEALTHY-AND-BLEACHED-CORALS-IMAGE-CLASSIFICATION.zip to d:\\gs-monitoramento-coral\n",
      "\n"
     ]
    },
    {
     "name": "stderr",
     "output_type": "stream",
     "text": [
      "\n",
      "  0%|          | 0.00/25.8M [00:00<?, ?B/s]\n",
      "  4%|▍         | 1.00M/25.8M [00:00<00:19, 1.36MB/s]\n",
      "  8%|▊         | 2.00M/25.8M [00:00<00:09, 2.67MB/s]\n",
      " 16%|█▌        | 4.00M/25.8M [00:01<00:03, 5.76MB/s]\n",
      " 31%|███       | 8.00M/25.8M [00:01<00:01, 12.2MB/s]\n",
      " 47%|████▋     | 12.0M/25.8M [00:01<00:00, 17.9MB/s]\n",
      " 58%|█████▊    | 15.0M/25.8M [00:01<00:00, 17.5MB/s]\n",
      " 70%|██████▉   | 18.0M/25.8M [00:01<00:00, 20.4MB/s]\n",
      " 82%|████████▏ | 21.0M/25.8M [00:01<00:00, 19.6MB/s]\n",
      " 93%|█████████▎| 24.0M/25.8M [00:01<00:00, 21.3MB/s]\n",
      "100%|██████████| 25.8M/25.8M [00:01<00:00, 14.4MB/s]\n"
     ]
    }
   ],
   "source": [
    "!kaggle datasets download -d VENCERLANZ09/HEALTHY-AND-BLEACHED-CORALS-IMAGE-CLASSIFICATION"
   ]
  },
  {
   "cell_type": "code",
   "execution_count": 7,
   "metadata": {},
   "outputs": [
    {
     "name": "stdout",
     "output_type": "stream",
     "text": [
      "Corais saudáveis: 485\n",
      "Corais branqueados: 438\n",
      "Número de imagens em D:/gs-monitoramento-coral/bleached_corals: 485\n",
      "Número de imagens em D:/gs-monitoramento-coral/healthy_corals: 438\n"
     ]
    }
   ],
   "source": [
    "# Diretórios das classes\n",
    "healthy_dir = 'D:/gs-monitoramento-coral/bleached_corals'\n",
    "bleached_dir = 'D:/gs-monitoramento-coral/healthy_corals'\n",
    "\n",
    "# Contar o número de imagens em cada classe\n",
    "num_healthy = len(os.listdir(healthy_dir))\n",
    "num_bleached = len(os.listdir(bleached_dir))\n",
    "\n",
    "print(f\"Corais saudáveis: {num_healthy}\")\n",
    "print(f\"Corais branqueados: {num_bleached}\")\n",
    "\n",
    "# Mostrar o número de imagens em cada diretório\n",
    "for dir_name in [healthy_dir, bleached_dir]:\n",
    "    print(f\"Número de imagens em {dir_name}: {len(os.listdir(dir_name))}\")"
   ]
  },
  {
   "cell_type": "code",
   "execution_count": 14,
   "metadata": {},
   "outputs": [
    {
     "name": "stdout",
     "output_type": "stream",
     "text": [
      "Concluído! Arquivos foram divididos em conjuntos de treino e validação.\n"
     ]
    }
   ],
   "source": [
    "# Diretório onde você deseja salvar os conjuntos de treino e validação\n",
    "train_dir = 'D:/gs-monitoramento-coral/train'\n",
    "val_dir = 'D:/gs-monitoramento-coral/val'\n",
    "\n",
    "# Crie os diretórios de treino e validação se eles ainda não existirem\n",
    "os.makedirs(os.path.join(train_dir, 'healthy'), exist_ok=True)\n",
    "os.makedirs(os.path.join(train_dir, 'bleached'), exist_ok=True)\n",
    "os.makedirs(os.path.join(val_dir, 'healthy'), exist_ok=True)\n",
    "os.makedirs(os.path.join(val_dir, 'bleached'), exist_ok=True)\n",
    "\n",
    "# Lista todos os arquivos nas pastas de imagens\n",
    "healthy_files = os.listdir(healthy_dir)\n",
    "bleached_files = os.listdir(bleached_dir)\n",
    "\n",
    "# Randomiza a ordem dos arquivos\n",
    "random.shuffle(healthy_files)\n",
    "random.shuffle(bleached_files)\n",
    "\n",
    "# Define a proporção entre os conjuntos de treino e validação\n",
    "train_ratio = 0.8  # 80% dos dados serão para treino\n",
    "\n",
    "# Calcula o número de imagens para treino e validação\n",
    "num_healthy_train = int(len(healthy_files) * train_ratio)\n",
    "num_bleached_train = int(len(bleached_files) * train_ratio)\n",
    "\n",
    "# Move os arquivos para os diretórios de treino\n",
    "for i in range(num_healthy_train):\n",
    "    shutil.copy(os.path.join(healthy_dir, healthy_files[i]), os.path.join(train_dir, 'healthy', healthy_files[i]))\n",
    "for i in range(num_bleached_train):\n",
    "    shutil.copy(os.path.join(bleached_dir, bleached_files[i]), os.path.join(train_dir, 'bleached', bleached_files[i]))\n",
    "\n",
    "# Move os arquivos restantes para os diretórios de validação\n",
    "for i in range(num_healthy_train, len(healthy_files)):\n",
    "    shutil.copy(os.path.join(healthy_dir, healthy_files[i]), os.path.join(val_dir, 'healthy', healthy_files[i]))\n",
    "for i in range(num_bleached_train, len(bleached_files)):\n",
    "    shutil.copy(os.path.join(bleached_dir, bleached_files[i]), os.path.join(val_dir, 'bleached', bleached_files[i]))\n",
    "\n",
    "print(\"Concluído! Arquivos foram divididos em conjuntos de treino e validação.\")"
   ]
  }
 ],
 "metadata": {
  "kernelspec": {
   "display_name": "Python 3",
   "language": "python",
   "name": "python3"
  },
  "language_info": {
   "codemirror_mode": {
    "name": "ipython",
    "version": 3
   },
   "file_extension": ".py",
   "mimetype": "text/x-python",
   "name": "python",
   "nbconvert_exporter": "python",
   "pygments_lexer": "ipython3",
   "version": "3.12.3"
  }
 },
 "nbformat": 4,
 "nbformat_minor": 2
}
